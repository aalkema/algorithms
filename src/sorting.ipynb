{
 "cells": [
  {
   "cell_type": "markdown",
   "metadata": {},
   "source": [
    "## Bubble sort\n",
    "\n",
    "Bubblesort is a very basic sorting algorithm.  It goes through every combination of elements a, b adjacent to each other, and if b > a, it swaps them.  It repeats this for every pair of elements."
   ]
  },
  {
   "cell_type": "code",
   "execution_count": 22,
   "metadata": {},
   "outputs": [
    {
     "name": "stdout",
     "output_type": "stream",
     "text": [
      "[6, 2, 8, 1, 9, 0, 4]\n",
      "[6, 2, 1, 8, 9, 0, 4]\n",
      "[6, 2, 1, 8, 0, 9, 4]\n",
      "[6, 2, 1, 8, 0, 4, 9]\n",
      "[2, 6, 1, 8, 0, 4, 9]\n",
      "[2, 1, 6, 8, 0, 4, 9]\n",
      "[2, 1, 6, 0, 8, 4, 9]\n",
      "[2, 1, 6, 0, 4, 8, 9]\n",
      "[1, 2, 6, 0, 4, 8, 9]\n",
      "[1, 2, 0, 6, 4, 8, 9]\n",
      "[1, 2, 0, 4, 6, 8, 9]\n",
      "[1, 0, 2, 4, 6, 8, 9]\n",
      "[0, 1, 2, 4, 6, 8, 9]\n"
     ]
    }
   ],
   "source": [
    "arr = [6, 8, 2, 1, 9, 0, 4]\n",
    "\n",
    "# Go through every element\n",
    "for i in range(len(arr)-1):\n",
    "\n",
    "    # For each element, compare against every other element, except the ones at the end we know are the biggest\n",
    "    for j in range(0, len(arr)-(i+1)):\n",
    "\n",
    "        # If the next element is bigger than the current one, swap them\n",
    "        if (arr[j] > arr[j+1]):\n",
    "            arr[j], arr[j+1] = arr[j+1], arr[j]\n",
    "            print(arr)\n"
   ]
  }
 ],
 "metadata": {
  "interpreter": {
   "hash": "227483544e21d21530aad397e213da3ea0474c1a3162f2cb47f6636053c915ff"
  },
  "kernelspec": {
   "display_name": "Python 3.9.8 64-bit",
   "language": "python",
   "name": "python3"
  },
  "language_info": {
   "codemirror_mode": {
    "name": "ipython",
    "version": 3
   },
   "file_extension": ".py",
   "mimetype": "text/x-python",
   "name": "python",
   "nbconvert_exporter": "python",
   "pygments_lexer": "ipython3",
   "version": "3.9.8"
  },
  "orig_nbformat": 4
 },
 "nbformat": 4,
 "nbformat_minor": 2
}
